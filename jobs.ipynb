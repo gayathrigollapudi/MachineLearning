{
 "cells": [
  {
   "cell_type": "code",
   "execution_count": 52,
   "metadata": {},
   "outputs": [
    {
     "name": "stderr",
     "output_type": "stream",
     "text": [
      "IOPub data rate exceeded.\n",
      "The notebook server will temporarily stop sending output\n",
      "to the client in order to avoid crashing it.\n",
      "To change this limit, set the config variable\n",
      "`--NotebookApp.iopub_data_rate_limit`.\n",
      "\n",
      "Current values:\n",
      "NotebookApp.iopub_data_rate_limit=1000000.0 (bytes/sec)\n",
      "NotebookApp.rate_limit_window=3.0 (secs)\n",
      "\n"
     ]
    }
   ],
   "source": [
    "# import csv\n",
    "# import sys\n",
    "\n",
    "# csv.field_size_limit(sys.maxsize)\n",
    "\n",
    "import sys\n",
    "import csv\n",
    "\n",
    "maxInt = sys.maxsize\n",
    "decrement = True\n",
    "\n",
    "while decrement:\n",
    "    decrement = False\n",
    "    try:\n",
    "        csv.field_size_limit(maxInt)\n",
    "    except OverflowError:\n",
    "        maxInt = int(maxInt/10)\n",
    "        decrement = True\n",
    "\n",
    "\n",
    "with open('jobs.csv','r', encoding=\"utf8\") as csv_file:\n",
    "    csv_reader = csv.reader(csv_file, delimiter='\\t')\n",
    "    \n",
    "    companys = [] #1\n",
    "    titles = [] #2\n",
    "    categorys = [] #4\n",
    "    \n",
    "    \n",
    "    for line in csv_reader:\n",
    "#         print(len(line[2]))\n",
    "#         company = line[1]\n",
    "        title = line[2]\n",
    "#         category = line[4]\n",
    "        titles.append(title)\n",
    "#         companys.append(company)\n",
    "#         if title not in titles:\n",
    "#             titles[title] = 1\n",
    "#         else:\n",
    "#             titles[title] += 1\n",
    "    print(titles)\n",
    "#         categorys.append(category)\n",
    "        "
   ]
  },
  {
   "cell_type": "code",
   "execution_count": null,
   "metadata": {},
   "outputs": [],
   "source": []
  }
 ],
 "metadata": {
  "kernelspec": {
   "display_name": "Python 3",
   "language": "python",
   "name": "python3"
  },
  "language_info": {
   "codemirror_mode": {
    "name": "ipython",
    "version": 3
   },
   "file_extension": ".py",
   "mimetype": "text/x-python",
   "name": "python",
   "nbconvert_exporter": "python",
   "pygments_lexer": "ipython3",
   "version": "3.6.5"
  }
 },
 "nbformat": 4,
 "nbformat_minor": 2
}
