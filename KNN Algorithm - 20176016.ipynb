{
 "cells": [
  {
   "cell_type": "markdown",
   "metadata": {},
   "source": [
    "## Reading data from arff files"
   ]
  },
  {
   "cell_type": "code",
   "execution_count": 90,
   "metadata": {
    "scrolled": true
   },
   "outputs": [],
   "source": [
    "from scipy.io import arff\n",
    "import pandas as pd\n",
    "\n",
    "data = arff.loadarff('trainProdSelection.arff')\n",
    "Dtrain = pd.DataFrame(data[0])\n",
    "\n",
    "data = arff.loadarff('testProdSelection.arff')\n",
    "Dtest = pd.DataFrame(data[0])"
   ]
  },
  {
   "cell_type": "markdown",
   "metadata": {},
   "source": [
    "### Data modification"
   ]
  },
  {
   "cell_type": "code",
   "execution_count": 91,
   "metadata": {
    "scrolled": true
   },
   "outputs": [],
   "source": [
    "Dtrain.Type = Dtrain.Type.str.decode(\"UTF-8\")\n",
    "Dtrain.LifeStyle = Dtrain.LifeStyle.str.decode(\"UTF-8\")\n",
    "Dtrain.label = Dtrain.label.str.decode(\"UTF-8\")\n",
    "\n",
    "Dtest.Type = Dtest.Type.str.decode(\"UTF-8\")\n",
    "Dtest.LifeStyle = Dtest.LifeStyle.str.decode(\"UTF-8\")\n",
    "Dtest.label = Dtest.label.str.decode(\"UTF-8\")"
   ]
  },
  {
   "cell_type": "markdown",
   "metadata": {},
   "source": [
    "## Train Data Normalization"
   ]
  },
  {
   "cell_type": "code",
   "execution_count": 92,
   "metadata": {},
   "outputs": [],
   "source": [
    "minimumValue = Dtrain.Vacation.min()\n",
    "maximumValue = Dtrain.Vacation.max()\n",
    "Dtrain.Vacation = Dtrain.Vacation.apply(lambda x:(x-minimumValue)/(maximumValue-minimumValue))\n",
    "\n",
    "minimumValue = Dtrain.eCredit.min()\n",
    "maximumValue = Dtrain.eCredit.max()\n",
    "Dtrain.eCredit = Dtrain.eCredit.apply(lambda x:(x-minimumValue)/(maximumValue-minimumValue))\n",
    "\n",
    "minimumValue = Dtrain.salary.min()\n",
    "maximumValue = Dtrain.salary.max()\n",
    "Dtrain.salary = Dtrain.salary.apply(lambda x:(x-minimumValue)/(maximumValue-minimumValue))\n",
    "\n",
    "minimumValue = Dtrain.property.min()\n",
    "maximumValue = Dtrain.property.max()\n",
    "Dtrain.property = Dtrain.property.apply(lambda x:(x-minimumValue)/(maximumValue-minimumValue))"
   ]
  },
  {
   "cell_type": "markdown",
   "metadata": {},
   "source": [
    "## Test Data Normalization"
   ]
  },
  {
   "cell_type": "code",
   "execution_count": 93,
   "metadata": {},
   "outputs": [],
   "source": [
    "minimumValue = Dtest.Vacation.min()\n",
    "maximumValue = Dtest.Vacation.max()\n",
    "Dtest.Vacation = Dtest.Vacation.apply(lambda x:(x-minimumValue)/(maximumValue-minimumValue))\n",
    "\n",
    "minimumValue = Dtest.eCredit.min()\n",
    "maximumValue = Dtest.eCredit.max()\n",
    "Dtest.eCredit = Dtest.eCredit.apply(lambda x:(x-minimumValue)/(maximumValue-minimumValue))\n",
    "\n",
    "minimumValue = Dtest.salary.min()\n",
    "maximumValue = Dtest.salary.max()\n",
    "Dtest.salary = Dtest.salary.apply(lambda x:(x-minimumValue)/(maximumValue-minimumValue))\n",
    "\n",
    "minimumValue = Dtest.property.min()\n",
    "maximumValue = Dtest.property.max()\n",
    "Dtest.property = Dtest.property.apply(lambda x:(x-minimumValue)/(maximumValue-minimumValue))"
   ]
  },
  {
   "cell_type": "markdown",
   "metadata": {},
   "source": [
    "## Euclidean Distance Calculation"
   ]
  },
  {
   "cell_type": "code",
   "execution_count": 94,
   "metadata": {},
   "outputs": [],
   "source": [
    "import math\n",
    "\n",
    "def euclideanDistance(instance1,instance2,length):\n",
    "    distance = 0\n",
    "    if(instance1[0]!=instance2[0]):\n",
    "        distance += 1\n",
    "    if(instance1[1]!=instance2[1]):\n",
    "        distance += 1\n",
    "    for x in range(2,length,1):        \n",
    "            distance += pow((instance1[x]-instance2[x]),2)\n",
    "    return math.sqrt(distance)"
   ]
  },
  {
   "cell_type": "markdown",
   "metadata": {},
   "source": [
    "## Finding Neighbours"
   ]
  },
  {
   "cell_type": "code",
   "execution_count": 95,
   "metadata": {},
   "outputs": [],
   "source": [
    "import operator \n",
    "def getNeighbors(trainingSet, testInstance, k):\n",
    "    distances = []\n",
    "    length = len(testInstance)-1\n",
    "    for x in range(len(trainingSet)):\n",
    "        dist = euclideanDistance(testInstance, trainingSet[x], length)\n",
    "        distances.append((trainingSet[x], dist))\n",
    "    distances.sort(key=operator.itemgetter(1))\n",
    "    neighbors = []\n",
    "    for x in range(k):\n",
    "        neighbors.append(distances[x][0])\n",
    "    return neighbors"
   ]
  },
  {
   "cell_type": "markdown",
   "metadata": {},
   "source": [
    "## Get Responses"
   ]
  },
  {
   "cell_type": "code",
   "execution_count": 96,
   "metadata": {},
   "outputs": [],
   "source": [
    "def getResponse(neighbors):\n",
    "    classDict = {}\n",
    "    for x in range(len(neighbors)):\n",
    "        class_response = neighbors[x][-1]\n",
    "        if class_response in classDict:\n",
    "            classDict[class_response] += 1\n",
    "        else:\n",
    "            classDict[class_response] = 1\n",
    "    sortedVotes = sorted(classDict.items(), key=operator.itemgetter(1), reverse=True)\n",
    "    \n",
    "    return sortedVotes[0][0]\n",
    "        "
   ]
  },
  {
   "cell_type": "markdown",
   "metadata": {},
   "source": [
    "## Accuracy Calculation"
   ]
  },
  {
   "cell_type": "code",
   "execution_count": 97,
   "metadata": {},
   "outputs": [],
   "source": [
    "def getAccuracy(testSet, predictions):\n",
    "    correct = 0\n",
    "    for x in range(len(testSet)):\n",
    "        if testSet[x][-1] == predictions[x]:            \n",
    "            correct += 1\n",
    "    return (correct/float(len(testSet))) * 100.0"
   ]
  },
  {
   "cell_type": "markdown",
   "metadata": {},
   "source": [
    "## KNNAlgorithm method\n",
    "#### to calculate the accuracy of the KNN Algorithm for given k value"
   ]
  },
  {
   "cell_type": "code",
   "execution_count": 98,
   "metadata": {},
   "outputs": [],
   "source": [
    "def KNNAlgorithm(k):\n",
    "    predictions=[]\n",
    "    for x in range(len(Dtest.values.tolist())):\n",
    "        neighbors = getNeighbors(Dtrain.values.tolist(), Dtest.values.tolist()[x], k)\n",
    "        result = getResponse(neighbors)\n",
    "        predictions.append(result)\n",
    "    accuracy = getAccuracy(Dtest.values.tolist(), predictions)\n",
    "    print('Accuracy for k:',k,' is ',repr(accuracy))\n",
    "    return repr(accuracy)\n"
   ]
  },
  {
   "cell_type": "markdown",
   "metadata": {},
   "source": [
    "## Plot k vs Accuracy"
   ]
  },
  {
   "cell_type": "code",
   "execution_count": 99,
   "metadata": {},
   "outputs": [
    {
     "name": "stdout",
     "output_type": "stream",
     "text": [
      "Accuracy for k: 1  is  23.809523809523807\n",
      "Accuracy for k: 3  is  28.57142857142857\n",
      "Accuracy for k: 5  is  28.57142857142857\n",
      "Accuracy for k: 7  is  28.57142857142857\n",
      "Accuracy for k: 9  is  23.809523809523807\n",
      "Accuracy for k: 11  is  23.809523809523807\n",
      "Accuracy for k: 13  is  19.047619047619047\n",
      "Accuracy for k: 15  is  14.285714285714285\n",
      "Accuracy for k: 17  is  19.047619047619047\n",
      "Accuracy for k: 19  is  19.047619047619047\n",
      "Accuracy for k: 21  is  19.047619047619047\n",
      "Accuracy for k: 23  is  19.047619047619047\n",
      "Accuracy for k: 25  is  19.047619047619047\n",
      "Accuracy for k: 27  is  19.047619047619047\n",
      "Accuracy for k: 29  is  19.047619047619047\n",
      "Accuracy for k: 31  is  19.047619047619047\n",
      "Accuracy for k: 33  is  19.047619047619047\n",
      "Accuracy for k: 35  is  14.285714285714285\n",
      "Accuracy for k: 37  is  14.285714285714285\n",
      "Accuracy for k: 39  is  19.047619047619047\n",
      "Accuracy for k: 41  is  19.047619047619047\n",
      "Accuracy for k: 43  is  19.047619047619047\n",
      "Accuracy for k: 45  is  19.047619047619047\n",
      "Accuracy for k: 47  is  19.047619047619047\n",
      "Accuracy for k: 49  is  19.047619047619047\n"
     ]
    },
    {
     "data": {
      "image/png": "[encoded data removed]",
      "text/plain": [
       "<Figure size 432x288 with 1 Axes>"
      ]
     },
     "metadata": {},
     "output_type": "display_data"
    }
   ],
   "source": [
    "%matplotlib inline\n",
    "import matplotlib.pyplot as plt\n",
    "\n",
    "kData = []\n",
    "accuracyData = []\n",
    "\n",
    "for i in range(1,51,2):\n",
    "    kData.append(i)\n",
    "    accuracyData.append(KNNAlgorithm(i))\n",
    "plt.plot(kData,accuracyData)\n",
    "plt.xlabel('k value')\n",
    "plt.ylabel('KNN Accuracy')\n",
    "plt.show()\n",
    "    "
   ]
  }
 ],
 "metadata": {
  "kernelspec": {
   "display_name": "Python 3",
   "language": "python",
   "name": "python3"
  },
  "language_info": {
   "codemirror_mode": {
    "name": "ipython",
    "version": 3
   },
   "file_extension": ".py",
   "mimetype": "text/x-python",
   "name": "python",
   "nbconvert_exporter": "python",
   "pygments_lexer": "ipython3",
   "version": "3.6.5"
  }
 },
 "nbformat": 4,
 "nbformat_minor": 2
}
